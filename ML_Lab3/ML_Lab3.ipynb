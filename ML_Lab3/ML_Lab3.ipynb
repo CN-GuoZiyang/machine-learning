{
 "cells": [
  {
   "cell_type": "markdown",
   "metadata": {},
   "source": [
    "### 生成三组不同均值和方差的高斯分布散点"
   ]
  },
  {
   "cell_type": "code",
   "execution_count": 2,
   "metadata": {},
   "outputs": [],
   "source": [
    "import numpy as np\n",
    "import matplotlib.pyplot as plt\n",
    "import random"
   ]
  },
  {
   "cell_type": "code",
   "execution_count": 6,
   "metadata": {},
   "outputs": [
    {
     "data": {
      "image/png": "[encoded data removed]",
      "text/plain": [
       "<Figure size 432x288 with 1 Axes>"
      ]
     },
     "metadata": {
      "needs_background": "light"
     },
     "output_type": "display_data"
    }
   ],
   "source": [
    "X_raw = np.zeros((2, 300))\n",
    "for i in range(100):\n",
    "    X_raw[0, i] = random.gauss(0, 2)\n",
    "    X_raw[1, i] = random.gauss(0, 2)\n",
    "for i in range(100, 200):\n",
    "    X_raw[0, i] = random.gauss(3, 2)\n",
    "    X_raw[1, i] = random.gauss(3, 2)\n",
    "for i in range(200, 300):\n",
    "    X_raw[0, i] = random.gauss(-3, 2)\n",
    "    X_raw[1, i] = random.gauss(3, 2)\n",
    "plt.scatter(X_raw[0, 0:100], X_raw[1, 0:100], marker=\".\")\n",
    "plt.scatter(X_raw[0, 100:200], X_raw[1, 100:200], marker=\".\")\n",
    "plt.scatter(X_raw[0, 200:300], X_raw[1, 200:300], marker=\".\")\n",
    "plt.show()"
   ]
  },
  {
   "cell_type": "markdown",
   "metadata": {},
   "source": [
    "### 划分训练集和测试集"
   ]
  },
  {
   "cell_type": "code",
   "execution_count": 19,
   "metadata": {},
   "outputs": [
    {
     "name": "stdout",
     "output_type": "stream",
     "text": [
      "X_train shape: (210, 2)\n",
      "X_test shape: (90, 2)\n"
     ]
    }
   ],
   "source": [
    "X_train = np.c_[X_raw[0:2, 0:70], X_raw[0:2, 100:170], X_raw[0:2, 200:270]].T\n",
    "X_test = np.c_[X_raw[0:2, 70:100], X_raw[0:2, 170:200], X_raw[0:2, 270:300]].T\n",
    "\n",
    "print(\"X_train shape: \" + str(X_train.shape))\n",
    "print(\"X_test shape: \" + str(X_test.shape))"
   ]
  },
  {
   "cell_type": "markdown",
   "metadata": {},
   "source": [
    "### 使用K-means算法聚类"
   ]
  },
  {
   "cell_type": "code",
   "execution_count": 64,
   "metadata": {},
   "outputs": [],
   "source": [
    "def kmeans(generation, x):\n",
    "    c1_center = x[random.randint(0, x.shape[0])]\n",
    "    c2_center = x[random.randint(0, x.shape[0])]\n",
    "    c3_center = x[random.randint(0, x.shape[0])]\n",
    "    \n",
    "    for i in range(generation):\n",
    "        c1 = []\n",
    "        c2 = []\n",
    "        c3 = []\n",
    "\n",
    "        for i in range(x.shape[0]):\n",
    "            current = x[i]\n",
    "            c1_dis = (current[0] - c1_center[0])**2 + (current[1] - c1_center[1])**2\n",
    "            c2_dis = (current[0] - c2_center[0])**2 + (current[1] - c2_center[1])**2\n",
    "            c3_dis = (current[0] - c3_center[0])**2 + (current[1] - c3_center[1])**2\n",
    "            if (c1_dis <= c2_dis) & (c1_dis <= c3_dis):\n",
    "                c1.append(current)\n",
    "            elif (c2_dis <= c1_dis) & (c2_dis <= c3_dis):\n",
    "                c2.append(current)\n",
    "            else:\n",
    "                c3.append(current)\n",
    "\n",
    "        sumx = 0.0\n",
    "        sumy = 0.0\n",
    "        if len(c1) != 0:\n",
    "            for i in range(len(c1)):\n",
    "                sumx = sumx + c1[i][0]\n",
    "                sumy = sumy + c1[i][1]\n",
    "            c1_center = [sumx / len(c1), sumy / len(c1)]\n",
    "        \n",
    "        sumx = 0.0\n",
    "        sumy = 0.0\n",
    "        if len(c2) != 0:\n",
    "            for i in range(len(c2)):\n",
    "                sumx = sumx + c2[i][0]\n",
    "                sumy = sumy + c2[i][1]\n",
    "            c2_center = [sumx / len(c2), sumy / len(c2)]\n",
    "\n",
    "        sumx = 0.0\n",
    "        sumy = 0.0\n",
    "        if len(c3) != 0:\n",
    "            for i in range(len(c3)):\n",
    "                sumx = sumx + c3[i][0]\n",
    "                sumy = sumy + c3[i][1]\n",
    "            c3_center = [sumx / len(c3), sumy / len(c3)]\n",
    "    return c1_center, c2_center, c3_center"
   ]
  },
  {
   "cell_type": "code",
   "execution_count": 67,
   "metadata": {},
   "outputs": [],
   "source": [
    "def draw(c1_center, c2_center, c3_center, x_train, x_test):\n",
    "    c1 = []\n",
    "    c2 = []\n",
    "    c3 = []\n",
    "\n",
    "    for i in range(x_train.shape[0]):\n",
    "        current = x_train[i]\n",
    "        c1_dis = (current[0] - c1_center[0])**2 + (current[1] - c1_center[1])**2\n",
    "        c2_dis = (current[0] - c2_center[0])**2 + (current[1] - c2_center[1])**2\n",
    "        c3_dis = (current[0] - c3_center[0])**2 + (current[1] - c3_center[1])**2\n",
    "        if (c1_dis <= c2_dis) & (c1_dis <= c3_dis):\n",
    "            c1.append(current)\n",
    "        elif (c2_dis <= c1_dis) & (c2_dis <= c3_dis):\n",
    "            c2.append(current)\n",
    "        else:\n",
    "            c3.append(current)\n",
    "            \n",
    "    for i in range(x_test.shape[0]):\n",
    "        current = x_test[i]\n",
    "        c1_dis = (current[0] - c1_center[0])**2 + (current[1] - c1_center[1])**2\n",
    "        c2_dis = (current[0] - c2_center[0])**2 + (current[1] - c2_center[1])**2\n",
    "        c3_dis = (current[0] - c3_center[0])**2 + (current[1] - c3_center[1])**2\n",
    "        if (c1_dis <= c2_dis) & (c1_dis <= c3_dis):\n",
    "            c1.append(current)\n",
    "        elif (c2_dis <= c1_dis) & (c2_dis <= c3_dis):\n",
    "            c2.append(current)\n",
    "        else:\n",
    "            c3.append(current)\n",
    "    \n",
    "    for i in range(len(c1)):\n",
    "        plt.scatter(c1[i][0], c1[i][1], marker=\".\", color=\"r\")\n",
    "    for i in range(len(c2)):\n",
    "        plt.scatter(c2[i][0], c2[i][1], marker=\".\", color=\"g\")\n",
    "    for i in range(len(c3)):\n",
    "        plt.scatter(c3[i][0], c3[i][1], marker=\".\", color=\"b\")    \n",
    "    plt.scatter(c1_center[0], c1_center[1], marker=\"^\", color=\"k\")\n",
    "    plt.scatter(c2_center[0], c2_center[1], marker=\"v\", color=\"k\")\n",
    "    plt.scatter(c3_center[0], c3_center[1], marker=\"<\", color=\"k\")\n",
    "    plt.show()"
   ]
  },
  {
   "cell_type": "code",
   "execution_count": 69,
   "metadata": {},
   "outputs": [],
   "source": [
    "def predict(c1_center, c2_center, c3_center, x):\n",
    "    sum_success = 0.0\n",
    "    for i in range(0, 30):\n",
    "        current = x[i]\n",
    "        c1_dis = (current[0] - c1_center[0])**2 + (current[1] - c1_center[1])**2\n",
    "        c2_dis = (current[0] - c2_center[0])**2 + (current[1] - c2_center[1])**2\n",
    "        c3_dis = (current[0] - c3_center[0])**2 + (current[1] - c3_center[1])**2\n",
    "        if (c1_dis <= c2_dis) & (c1_dis <= c3_dis):\n",
    "            sum_success = sum_success + 1\n",
    "    \n",
    "    for i in range(30, 60):\n",
    "        current = x[i]\n",
    "        c1_dis = (current[0] - c1_center[0])**2 + (current[1] - c1_center[1])**2\n",
    "        c2_dis = (current[0] - c2_center[0])**2 + (current[1] - c2_center[1])**2\n",
    "        c3_dis = (current[0] - c3_center[0])**2 + (current[1] - c3_center[1])**2\n",
    "        if (c2_dis <= c1_dis) & (c2_dis <= c3_dis):\n",
    "            sum_success = sum_success + 1\n",
    "            \n",
    "    for i in range(60, 90):\n",
    "        current = x[i]\n",
    "        c1_dis = (current[0] - c1_center[0])**2 + (current[1] - c1_center[1])**2\n",
    "        c2_dis = (current[0] - c2_center[0])**2 + (current[1] - c2_center[1])**2\n",
    "        c3_dis = (current[0] - c3_center[0])**2 + (current[1] - c3_center[1])**2\n",
    "        if (c3_dis <= c1_dis) & (c3_dis <= c2_dis):\n",
    "            sum_success = sum_success + 1\n",
    "            \n",
    "    return sum_success / len(x)"
   ]
  },
  {
   "cell_type": "code",
   "execution_count": 72,
   "metadata": {},
   "outputs": [
    {
     "data": {
      "image/png": "[encoded data removed]",
      "text/plain": [
       "<Figure size 432x288 with 1 Axes>"
      ]
     },
     "metadata": {
      "needs_background": "light"
     },
     "output_type": "display_data"
    },
    {
     "name": "stdout",
     "output_type": "stream",
     "text": [
      "0.8777777777777778\n"
     ]
    }
   ],
   "source": [
    "c1_center, c2_center, c3_center = kmeans(5000, X_train)\n",
    "draw(c1_center, c2_center, c3_center, X_train, X_test)\n",
    "print(predict(c1_center, c2_center, c3_center, X_test))"
   ]
  },
  {
   "cell_type": "code",
   "execution_count": null,
   "metadata": {},
   "outputs": [],
   "source": []
  }
 ],
 "metadata": {
  "kernelspec": {
   "display_name": "Python 3",
   "language": "python",
   "name": "python3"
  },
  "language_info": {
   "codemirror_mode": {
    "name": "ipython",
    "version": 3
   },
   "file_extension": ".py",
   "mimetype": "text/x-python",
   "name": "python",
   "nbconvert_exporter": "python",
   "pygments_lexer": "ipython3",
   "version": "3.7.0"
  }
 },
 "nbformat": 4,
 "nbformat_minor": 4
}
