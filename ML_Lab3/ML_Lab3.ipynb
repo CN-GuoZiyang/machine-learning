{
 "cells": [
  {
   "cell_type": "markdown",
   "metadata": {},
   "source": [
    "### 生成三组不同均值和方差的高斯分布散点"
   ]
  },
  {
   "cell_type": "code",
   "execution_count": 1,
   "metadata": {},
   "outputs": [],
   "source": [
    "import numpy as np\n",
    "import matplotlib.pyplot as plt\n",
    "import random"
   ]
  },
  {
   "cell_type": "code",
   "execution_count": 2,
   "metadata": {},
   "outputs": [
    {
     "data": {
      "image/png": "[encoded data removed]",
      "text/plain": [
       "<Figure size 432x288 with 1 Axes>"
      ]
     },
     "metadata": {
      "needs_background": "light"
     },
     "output_type": "display_data"
    },
    {
     "name": "stdout",
     "output_type": "stream",
     "text": [
      "(300, 2)\n"
     ]
    }
   ],
   "source": [
    "X = np.zeros((2, 300))\n",
    "for i in range(100):\n",
    "    X[0, i] = random.gauss(0, 2)\n",
    "    X[1, i] = random.gauss(0, 2)\n",
    "for i in range(100, 200):\n",
    "    X[0, i] = random.gauss(6, 2)\n",
    "    X[1, i] = random.gauss(6, 2)\n",
    "for i in range(200, 300):\n",
    "    X[0, i] = random.gauss(-6, 2)\n",
    "    X[1, i] = random.gauss(6, 2)\n",
    "plt.scatter(X[0, 0:100], X[1, 0:100], marker=\".\")\n",
    "plt.scatter(X[0, 100:200], X[1, 100:200], marker=\".\")\n",
    "plt.scatter(X[0, 200:300], X[1, 200:300], marker=\".\")\n",
    "plt.show()\n",
    "X = X.T\n",
    "print(X.shape)"
   ]
  },
  {
   "cell_type": "markdown",
   "metadata": {},
   "source": [
    "### 使用K-means算法聚类"
   ]
  },
  {
   "cell_type": "code",
   "execution_count": 3,
   "metadata": {},
   "outputs": [],
   "source": [
    "def kmeans(generation, x):\n",
    "    c1_center = x[random.randint(0, x.shape[0])]\n",
    "    c2_center = x[random.randint(0, x.shape[0])]\n",
    "    c3_center = x[random.randint(0, x.shape[0])]\n",
    "    \n",
    "    for i in range(generation):\n",
    "        c1 = []\n",
    "        c2 = []\n",
    "        c3 = []\n",
    "\n",
    "        for i in range(x.shape[0]):\n",
    "            current = x[i]\n",
    "            c1_dis = (current[0] - c1_center[0])**2 + (current[1] - c1_center[1])**2\n",
    "            c2_dis = (current[0] - c2_center[0])**2 + (current[1] - c2_center[1])**2\n",
    "            c3_dis = (current[0] - c3_center[0])**2 + (current[1] - c3_center[1])**2\n",
    "            if (c1_dis <= c2_dis) & (c1_dis <= c3_dis):\n",
    "                c1.append(current)\n",
    "            elif (c2_dis <= c1_dis) & (c2_dis <= c3_dis):\n",
    "                c2.append(current)\n",
    "            else:\n",
    "                c3.append(current)\n",
    "\n",
    "        sumx = 0.0\n",
    "        sumy = 0.0\n",
    "        if len(c1) != 0:\n",
    "            for i in range(len(c1)):\n",
    "                sumx = sumx + c1[i][0]\n",
    "                sumy = sumy + c1[i][1]\n",
    "            c1_center = [sumx / len(c1), sumy / len(c1)]\n",
    "        \n",
    "        sumx = 0.0\n",
    "        sumy = 0.0\n",
    "        if len(c2) != 0:\n",
    "            for i in range(len(c2)):\n",
    "                sumx = sumx + c2[i][0]\n",
    "                sumy = sumy + c2[i][1]\n",
    "            c2_center = [sumx / len(c2), sumy / len(c2)]\n",
    "\n",
    "        sumx = 0.0\n",
    "        sumy = 0.0\n",
    "        if len(c3) != 0:\n",
    "            for i in range(len(c3)):\n",
    "                sumx = sumx + c3[i][0]\n",
    "                sumy = sumy + c3[i][1]\n",
    "            c3_center = [sumx / len(c3), sumy / len(c3)]\n",
    "    return c1_center, c2_center, c3_center"
   ]
  },
  {
   "cell_type": "code",
   "execution_count": 4,
   "metadata": {},
   "outputs": [],
   "source": [
    "def draw(c1_center, c2_center, c3_center, x):\n",
    "    c1 = []\n",
    "    c2 = []\n",
    "    c3 = []\n",
    "\n",
    "    for i in range(x.shape[0]):\n",
    "        current = x[i]\n",
    "        c1_dis = (current[0] - c1_center[0])**2 + (current[1] - c1_center[1])**2\n",
    "        c2_dis = (current[0] - c2_center[0])**2 + (current[1] - c2_center[1])**2\n",
    "        c3_dis = (current[0] - c3_center[0])**2 + (current[1] - c3_center[1])**2\n",
    "        if (c1_dis <= c2_dis) & (c1_dis <= c3_dis):\n",
    "            c1.append(current)\n",
    "        elif (c2_dis <= c1_dis) & (c2_dis <= c3_dis):\n",
    "            c2.append(current)\n",
    "        else:\n",
    "            c3.append(current)\n",
    "\n",
    "    for i in range(len(c1)):\n",
    "        plt.scatter(c1[i][0], c1[i][1], marker=\".\", color=\"r\")\n",
    "    for i in range(len(c2)):\n",
    "        plt.scatter(c2[i][0], c2[i][1], marker=\".\", color=\"g\")\n",
    "    for i in range(len(c3)):\n",
    "        plt.scatter(c3[i][0], c3[i][1], marker=\".\", color=\"b\")    \n",
    "    plt.scatter(c1_center[0], c1_center[1], marker=\"^\", color=\"k\")\n",
    "    plt.scatter(c2_center[0], c2_center[1], marker=\"v\", color=\"k\")\n",
    "    plt.scatter(c3_center[0], c3_center[1], marker=\"<\", color=\"k\")\n",
    "    plt.show()"
   ]
  },
  {
   "cell_type": "code",
   "execution_count": 5,
   "metadata": {},
   "outputs": [
    {
     "data": {
      "image/png": "[encoded data removed]",
      "text/plain": [
       "<Figure size 432x288 with 1 Axes>"
      ]
     },
     "metadata": {
      "needs_background": "light"
     },
     "output_type": "display_data"
    }
   ],
   "source": [
    "c1_center, c2_center, c3_center = kmeans(5000, X)\n",
    "draw(c1_center, c2_center, c3_center, X)"
   ]
  },
  {
   "cell_type": "markdown",
   "metadata": {},
   "source": [
    "### 使用GMM的EM算法"
   ]
  },
  {
   "cell_type": "code",
   "execution_count": 6,
   "metadata": {},
   "outputs": [],
   "source": [
    "from matplotlib.patches import Ellipse\n",
    "from scipy.stats import multivariate_normal"
   ]
  },
  {
   "cell_type": "code",
   "execution_count": 7,
   "metadata": {},
   "outputs": [],
   "source": [
    "def update_W(X, Mu, Var, Pi):\n",
    "    n_points, n_clusters = len(X), len(Pi)\n",
    "    pdfs = np.zeros(((n_points, n_clusters)))\n",
    "    for i in range(n_clusters):\n",
    "        pdfs[:, i] = Pi[i] * multivariate_normal.pdf(X, Mu[i], np.diag(Var[i]))\n",
    "    W = pdfs / pdfs.sum(axis=1).reshape(-1, 1)\n",
    "    return W\n",
    "\n",
    "def update_Pi(W):\n",
    "    Pi = W.sum(axis=0) / W.sum()\n",
    "    return Pi\n",
    "\n",
    "\n",
    "# 计算log似然函数\n",
    "def logLH(X, Pi, Mu, Var):\n",
    "    n_points, n_clusters = len(X), len(Pi)\n",
    "    pdfs = np.zeros(((n_points, n_clusters)))\n",
    "    for i in range(n_clusters):\n",
    "        pdfs[:, i] = Pi[i] * multivariate_normal.pdf(X, Mu[i], np.diag(Var[i]))\n",
    "\n",
    "# 画出聚类图像\n",
    "def plot_clusters(X, Mu, Var):\n",
    "    colors = ['r', 'g', 'b']\n",
    "    n_clusters = len(Mu)\n",
    "    XT = X.T\n",
    "    plt.scatter(XT[0, 0:100], XT[1, 0:100], marker=\".\", color=\"r\")\n",
    "    plt.scatter(XT[0, 100:200], XT[1, 100:200], marker=\".\", color=\"g\")\n",
    "    plt.scatter(XT[0, 200:300], XT[1, 200:300], marker=\".\", color=\"b\")\n",
    "    ax = plt.gca()\n",
    "    for i in range(n_clusters):\n",
    "        plot_args = {'fc': 'None', 'lw': 2, 'edgecolor': colors[i], 'ls': ':'}\n",
    "        ellipse = Ellipse(Mu[i], 3 * Var[i][0], 3 * Var[i][1], **plot_args)\n",
    "        ax.add_patch(ellipse)        \n",
    "    plt.show()\n",
    "    \n",
    "\n",
    "# 更新Mu\n",
    "def update_Mu(X, W):\n",
    "    n_clusters = W.shape[1]\n",
    "    Mu = np.zeros((n_clusters, 2))\n",
    "    for i in range(n_clusters):\n",
    "        Mu[i] = np.average(X, axis=0, weights=W[:, i])\n",
    "    return Mu\n",
    "\n",
    "\n",
    "# 更新Var\n",
    "def update_Var(X, Mu, W):\n",
    "    n_clusters = W.shape[1]\n",
    "    Var = np.zeros((n_clusters, 2))\n",
    "    for i in range(n_clusters):\n",
    "        Var[i] = np.average((X - Mu[i]) ** 2, axis=0, weights=W[:, i])\n",
    "    return Var"
   ]
  },
  {
   "cell_type": "code",
   "execution_count": 8,
   "metadata": {},
   "outputs": [
    {
     "data": {
      "image/png": "[encoded data removed]",
      "text/plain": [
       "<Figure size 432x288 with 1 Axes>"
      ]
     },
     "metadata": {
      "needs_background": "light"
     },
     "output_type": "display_data"
    }
   ],
   "source": [
    "true_Mu = [[0., 0.], [6., 6.], [-6., 6.]]\n",
    "true_Var = [[2, 2], [2, 2], [2, 2]]\n",
    "n_clusters = 3\n",
    "n_points = len(X)\n",
    "Mu = [[0, -1], [6, 0], [0, 9]]\n",
    "Var = [[1, 1], [1, 1], [1, 1]]\n",
    "Pi = [1 / n_clusters] * 3\n",
    "W = np.ones((n_points, n_clusters)) / n_clusters \n",
    "Pi = W.sum(axis=0) / W.sum()\n",
    "# 迭代\n",
    "for i in range(100):\n",
    "    logLH(X, Pi, Mu, Var)\n",
    "    W = update_W(X, Mu, Var, Pi)\n",
    "    Pi = update_Pi(W)\n",
    "    Mu = update_Mu(X, W)\n",
    "    Var = update_Var(X, Mu, W)\n",
    "plot_clusters(X, Mu, Var)"
   ]
  }
 ],
 "metadata": {
  "kernelspec": {
   "display_name": "Python 3",
   "language": "python",
   "name": "python3"
  },
  "language_info": {
   "codemirror_mode": {
    "name": "ipython",
    "version": 3
   },
   "file_extension": ".py",
   "mimetype": "text/x-python",
   "name": "python",
   "nbconvert_exporter": "python",
   "pygments_lexer": "ipython3",
   "version": "3.7.0"
  }
 },
 "nbformat": 4,
 "nbformat_minor": 4
}
