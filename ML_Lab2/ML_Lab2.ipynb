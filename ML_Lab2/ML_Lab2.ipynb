{
 "cells": [
  {
   "cell_type": "markdown",
   "metadata": {},
   "source": [
    "### 导入必要的库"
   ]
  },
  {
   "cell_type": "code",
   "execution_count": 1,
   "metadata": {},
   "outputs": [],
   "source": [
    "import numpy as np\n",
    "import csv\n",
    "import random\n",
    "import matplotlib.pyplot as plt"
   ]
  },
  {
   "cell_type": "markdown",
   "metadata": {},
   "source": [
    "### 从CSV中读入数据集并进行简单映射处理"
   ]
  },
  {
   "cell_type": "code",
   "execution_count": 2,
   "metadata": {},
   "outputs": [],
   "source": [
    "raw_data_list = []\n",
    "with open('train.csv', 'r') as f:\n",
    "    reader = csv.reader(f)\n",
    "    for row in reader:\n",
    "        raw_data_list.append(row)\n",
    "\n",
    "raw_data_list.pop(0)\n",
    "\n",
    "# 存储所有数据的矩阵\n",
    "raw_data_matrix = np.zeros((len(raw_data_list[0]), len(raw_data_list)))\n",
    "raw_data_list = np.array(raw_data_list).T\n",
    "raw_data_matrix[0] = raw_data_list[0].astype(np.float)\n",
    "for i in range(len(raw_data_matrix[0])):\n",
    "    # male为1，female为0\n",
    "    raw_data_matrix[1][i] = 1 if raw_data_list[1][i] == 'male' else 2\n",
    "for i in range(2, 6):\n",
    "    raw_data_matrix[i] = raw_data_list[i].astype(np.float)\n",
    "for i in range(len(raw_data_matrix[0])):\n",
    "    if raw_data_list[6][i] == 'U':\n",
    "        raw_data_matrix[6][i] = 0\n",
    "    elif raw_data_list[6][i] == 'C':\n",
    "        raw_data_matrix[6][i] = 1\n",
    "    elif raw_data_list[6][i] == 'Q':\n",
    "        raw_data_matrix[6][i] = 2\n",
    "    elif raw_data_list[6][i] == 'S':\n",
    "        raw_data_matrix[6][i] = 3\n",
    "raw_data_matrix[7] = raw_data_list[7].astype(np.float)"
   ]
  },
  {
   "cell_type": "markdown",
   "metadata": {},
   "source": [
    "### 分割训练集和测试集"
   ]
  },
  {
   "cell_type": "code",
   "execution_count": 3,
   "metadata": {},
   "outputs": [],
   "source": [
    "m_train = int(len(raw_data_matrix[0]) * 0.7)\n",
    "m_test = len(raw_data_matrix[0]) - m_train\n",
    "\n",
    "X_train = raw_data_matrix[0:7, 0:m_train]\n",
    "Y_train = raw_data_matrix[7:8, 0:m_train]\n",
    "\n",
    "X_test = raw_data_matrix[0:7, m_train:]\n",
    "Y_test = raw_data_matrix[7:8, m_train:]"
   ]
  },
  {
   "cell_type": "markdown",
   "metadata": {},
   "source": [
    "### 映射函数\n",
    "\n",
    "将数值映射到0-1之间，直接使用Sigmoid容易溢出\n",
    "$$\n",
    "mapping(z) = 0.5(1+tanh(0.5z))\n",
    "$$"
   ]
  },
  {
   "cell_type": "code",
   "execution_count": 4,
   "metadata": {},
   "outputs": [],
   "source": [
    "def mapping(z):\n",
    "    return 0.5 * (1 + np.tanh(0.5 * z))"
   ]
  },
  {
   "cell_type": "markdown",
   "metadata": {},
   "source": [
    "### 初始化$\\omega$和b"
   ]
  },
  {
   "cell_type": "code",
   "execution_count": 5,
   "metadata": {},
   "outputs": [],
   "source": [
    "def initialize_with_zeros(dimension):\n",
    "    w = np.zeros((dimension, 1))\n",
    "    b = 0.\n",
    "    return w, b"
   ]
  },
  {
   "cell_type": "markdown",
   "metadata": {},
   "source": [
    "### 完成前向和反向传播\n",
    "\n",
    "使用loss函数为\n",
    "\n",
    "$$\n",
    "\\mathcal{L}(a^{(i)}, y^{(i)}) =  - y^{(i)}  \\log(a^{(i)}) - (1-y^{(i)} )  \\log(1-a^{(i)})\\tag{3}\n",
    "$$\n",
    "\n",
    "cost函数为\n",
    "\n",
    "$$\n",
    "J = -\\frac{1}{m}\\sum_{i=1}^{m}y^{(i)}\\log(a^{(i)})+(1-y^{(i)})\\log(1-a^{(i)})\n",
    "$$"
   ]
  },
  {
   "cell_type": "code",
   "execution_count": 6,
   "metadata": {},
   "outputs": [],
   "source": [
    "def propagate(w, b, X, Y, theta):\n",
    "    m = X.shape[1]\n",
    "    # 前向传播\n",
    "    theta = 1e-5\n",
    "    A = mapping((np.dot(w.T, X) + b ) * theta)\n",
    "    cost = -1 / m * np.sum(Y * np.log(A) + (1 - Y) * np.log(1 - A)) #+ theta/(2*m)*np.dot(w.T, w)\n",
    "    \n",
    "    # 计算梯度，反向传播\n",
    "    dw = 1 / m * np.dot(X, (A - Y).T) #+ theta/m*w\n",
    "    db = 1 / m * np.sum(A - Y)\n",
    "    \n",
    "    cost = np.squeeze(cost)\n",
    "    \n",
    "    grad = {\n",
    "        \"dw\": dw,\n",
    "        \"db\": db\n",
    "    }\n",
    "    return grad, cost"
   ]
  },
  {
   "cell_type": "markdown",
   "metadata": {},
   "source": [
    "### 训练过程"
   ]
  },
  {
   "cell_type": "code",
   "execution_count": 7,
   "metadata": {},
   "outputs": [],
   "source": [
    "def optimize(w, b, X, Y, num_iterations, learning_rate, theta):\n",
    "    costs = []\n",
    "    for i in range(num_iterations):\n",
    "        grad, cost = propagate(w, b, X, Y, theta)\n",
    "        \n",
    "        dw = grad['dw']\n",
    "        db = grad['db']\n",
    "        \n",
    "        # 更新w和b\n",
    "        w = w - learning_rate * dw\n",
    "        b = b - learning_rate * db\n",
    "        \n",
    "        if (i+1)%2000 == 0:\n",
    "            costs.append(cost)\n",
    "        \n",
    "    params = {\n",
    "        \"w\": w,\n",
    "        \"b\": b\n",
    "    }\n",
    "    return params, costs"
   ]
  },
  {
   "cell_type": "markdown",
   "metadata": {},
   "source": [
    "### 根据现有模型预测测试集并给出正确率"
   ]
  },
  {
   "cell_type": "code",
   "execution_count": 8,
   "metadata": {},
   "outputs": [],
   "source": [
    "def predict(w, b, X, Y):\n",
    "    Y_predict = mapping(np.dot(w.T, X) + b)\n",
    "    for i in range(Y_predict.shape[1]):\n",
    "        Y_predict[0][i] = 1 if Y_predict[0][i] >= 0.5 else 0\n",
    "    return 100 - np.mean(np.abs(Y_predict - Y)) * 100"
   ]
  },
  {
   "cell_type": "markdown",
   "metadata": {},
   "source": [
    "### 在数据集上运行"
   ]
  },
  {
   "cell_type": "code",
   "execution_count": 9,
   "metadata": {},
   "outputs": [
    {
     "name": "stdout",
     "output_type": "stream",
     "text": [
      "训练集准确率：79.7752808988764%\n",
      "测试集准确率：82.83582089552239%\n"
     ]
    }
   ],
   "source": [
    "num_iterations = 100000\n",
    "learning_rate = 20\n",
    "\n",
    "w, b = initialize_with_zeros(X_train.shape[0])\n",
    "\n",
    "params, costs = optimize(w, b, X_train, Y_train, num_iterations, learning_rate, np.exp(-18))\n",
    "\n",
    "w = params[\"w\"]\n",
    "b = params[\"b\"]\n",
    "\n",
    "print('训练集准确率：' + str(predict(w, b, X_train, Y_train)) + '%')\n",
    "print('测试集准确率：' + str(predict(w, b, X_test, Y_test)) + '%')"
   ]
  },
  {
   "cell_type": "markdown",
   "metadata": {},
   "source": [
    "### 比较不同的learning rate下的costs和准确率"
   ]
  },
  {
   "cell_type": "code",
   "execution_count": 10,
   "metadata": {},
   "outputs": [
    {
     "name": "stdout",
     "output_type": "stream",
     "text": [
      "learning rate为5时准确率：76.86567164179104%\n",
      "learning rate为10时准确率：81.34328358208955%\n",
      "learning rate为15时准确率：83.58208955223881%\n",
      "learning rate为20时准确率：82.83582089552239%\n",
      "learning rate为25时准确率：82.83582089552239%\n",
      "learning rate为30时准确率：82.46268656716418%\n"
     ]
    },
    {
     "data": {
      "image/png": "[encoded data removed]",
      "text/plain": [
       "<Figure size 432x288 with 1 Axes>"
      ]
     },
     "metadata": {
      "needs_background": "light"
     },
     "output_type": "display_data"
    }
   ],
   "source": [
    "num_iterations = 100000\n",
    "costss = []\n",
    "\n",
    "for i in [5, 10, 15, 20, 25, 30]:\n",
    "    w, b = initialize_with_zeros(X_train.shape[0])\n",
    "    params, costs = optimize(w, b, X_train, Y_train, num_iterations, i, np.exp(-18))\n",
    "    w = params[\"w\"]\n",
    "    b = params[\"b\"]\n",
    "    print('learning rate为' + str(i) + '时准确率：' + str(predict(w, b, X_test, Y_test)) + '%')\n",
    "    costss.append(costs)\n",
    "\n",
    "x_label = [i*2000 for i in range(1, 51)]\n",
    "for i in range(len(costss)):\n",
    "    plt.plot(x_label, costss[i], label=str((i+1)*5))\n",
    "plt.legend()\n",
    "plt.show()"
   ]
  },
  {
   "cell_type": "markdown",
   "metadata": {},
   "source": [
    "以上使用TITANIC数据集，以下将使用自己生成的数据集进行验证"
   ]
  },
  {
   "cell_type": "markdown",
   "metadata": {},
   "source": [
    "### 创建数据集\n",
    "\n",
    "指定两个点，在周围分别使用高斯分布产生100个点"
   ]
  },
  {
   "cell_type": "code",
   "execution_count": 11,
   "metadata": {},
   "outputs": [
    {
     "data": {
      "image/png": "[encoded data removed]",
      "text/plain": [
       "<Figure size 432x288 with 1 Axes>"
      ]
     },
     "metadata": {
      "needs_background": "light"
     },
     "output_type": "display_data"
    }
   ],
   "source": [
    "X0 = 0.0\n",
    "Y0 = 0.0\n",
    "X1 = 5.0\n",
    "Y1 = 5.0\n",
    "\n",
    "XG_Raw = np.zeros((2, 200))\n",
    "YG_Raw = np.zeros((1, 200))\n",
    "\n",
    "for i in range(100):\n",
    "    XG_Raw[0, i] = X0 + random.gauss(0, 4)\n",
    "    XG_Raw[1, i] = Y0 + random.gauss(0, 4)\n",
    "    YG_Raw[0, i] = 0\n",
    "for i in range(100, 200):\n",
    "    XG_Raw[0, i] = X1 + random.gauss(0, 4)\n",
    "    XG_Raw[1, i] = Y1 + random.gauss(0, 4)\n",
    "    YG_Raw[0, i] = 1\n",
    "\n",
    "plt.scatter(XG_Raw[0,0:100], XG_Raw[1,0:100], c='r', marker='.')\n",
    "plt.scatter(XG_Raw[0,100:200], XG_Raw[1,100:200], c='b', marker='.')\n",
    "plt.show()"
   ]
  },
  {
   "cell_type": "markdown",
   "metadata": {},
   "source": [
    "### 产生训练集和测试集"
   ]
  },
  {
   "cell_type": "code",
   "execution_count": 12,
   "metadata": {},
   "outputs": [],
   "source": [
    "XG_Train = np.r_[XG_Raw[0:2,0:70], XG_Raw[0:2,100:170]]\n",
    "YG_Train = np.r_[YG_Raw[0:1,0:70], YG_Raw[0:1,100:170]]\n",
    "XG_Test = np.r_[XG_Raw[0:2,70:100], XG_Raw[0:2,170:200]]\n",
    "YG_Test = np.r_[YG_Raw[0:1,70:100], YG_Raw[0:1,170:200]]"
   ]
  },
  {
   "cell_type": "markdown",
   "metadata": {},
   "source": [
    "### 带入算法"
   ]
  },
  {
   "cell_type": "code",
   "execution_count": 13,
   "metadata": {},
   "outputs": [
    {
     "name": "stdout",
     "output_type": "stream",
     "text": [
      "训练集准确率：97.14285714285714%\n",
      "测试集准确率：93.33333333333333%\n"
     ]
    }
   ],
   "source": [
    "w, b = initialize_with_zeros(XG_Train.shape[0])\n",
    "params, costs = optimize(w, b, XG_Train, YG_Train, 100000, 0.5, np.exp(-18))\n",
    "w = params[\"w\"]\n",
    "b = params[\"b\"]\n",
    "\n",
    "print('训练集准确率：' + str(predict(w, b, XG_Train, YG_Train)) + '%')\n",
    "print('测试集准确率：' + str(predict(w, b, XG_Test, YG_Test)) + '%')"
   ]
  },
  {
   "cell_type": "markdown",
   "metadata": {},
   "source": [
    "### 测试非朴素贝叶斯数据集"
   ]
  },
  {
   "cell_type": "code",
   "execution_count": 14,
   "metadata": {},
   "outputs": [
    {
     "data": {
      "image/png": "[encoded data removed]",
      "text/plain": [
       "<Figure size 432x288 with 1 Axes>"
      ]
     },
     "metadata": {
      "needs_background": "light"
     },
     "output_type": "display_data"
    },
    {
     "name": "stdout",
     "output_type": "stream",
     "text": [
      "训练集准确率：92.85714285714286%\n",
      "测试集准确率：86.66666666666667%\n"
     ]
    }
   ],
   "source": [
    "X0 = 0.0\n",
    "Y0 = 0.0\n",
    "X1 = 5.0\n",
    "Y1 = 5.0\n",
    "\n",
    "XG_Raw = np.zeros((2, 200))\n",
    "YG_Raw = np.zeros((1, 200))\n",
    "\n",
    "for i in range(100):\n",
    "    XG_Raw[0, i] = X0 + random.gauss(0, 4)\n",
    "    XG_Raw[1, i] = 2 * XG_Raw[0, i] + 1\n",
    "    YG_Raw[0, i] = 0\n",
    "for i in range(100, 200):\n",
    "    XG_Raw[0, i] = X1 + random.gauss(0, 4)\n",
    "    XG_Raw[1, i] = 2 * XG_Raw[0, i] + 1\n",
    "    YG_Raw[0, i] = 1\n",
    "\n",
    "plt.scatter(XG_Raw[0,0:100], XG_Raw[1,0:100], c='r', marker='.')\n",
    "plt.scatter(XG_Raw[0,100:200], XG_Raw[1,100:200], c='b', marker='.')\n",
    "plt.show()\n",
    "\n",
    "XG_Train = np.r_[XG_Raw[0:2,0:70], XG_Raw[0:2,100:170]]\n",
    "YG_Train = np.r_[YG_Raw[0:1,0:70], YG_Raw[0:1,100:170]]\n",
    "XG_Test = np.r_[XG_Raw[0:2,70:100], XG_Raw[0:2,170:200]]\n",
    "YG_Test = np.r_[YG_Raw[0:1,70:100], YG_Raw[0:1,170:200]]\n",
    "\n",
    "w, b = initialize_with_zeros(XG_Train.shape[0])\n",
    "params, costs = optimize(w, b, XG_Train, YG_Train, 100000, 0.5, np.exp(-18))\n",
    "w = params[\"w\"]\n",
    "b = params[\"b\"]\n",
    "\n",
    "print('训练集准确率：' + str(predict(w, b, XG_Train, YG_Train)) + '%')\n",
    "print('测试集准确率：' + str(predict(w, b, XG_Test, YG_Test)) + '%')"
   ]
  }
 ],
 "metadata": {
  "kernelspec": {
   "display_name": "Python 3",
   "language": "python",
   "name": "python3"
  },
  "language_info": {
   "codemirror_mode": {
    "name": "ipython",
    "version": 3
   },
   "file_extension": ".py",
   "mimetype": "text/x-python",
   "name": "python",
   "nbconvert_exporter": "python",
   "pygments_lexer": "ipython3",
   "version": "3.7.0"
  }
 },
 "nbformat": 4,
 "nbformat_minor": 4
}
