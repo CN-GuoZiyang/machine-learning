{
 "cells": [
  {
   "cell_type": "markdown",
   "metadata": {},
   "source": [
    "### Titanic的贝叶斯分类器版本"
   ]
  },
  {
   "cell_type": "code",
   "execution_count": 1,
   "metadata": {},
   "outputs": [],
   "source": [
    "import numpy as np\n",
    "import csv"
   ]
  },
  {
   "cell_type": "markdown",
   "metadata": {},
   "source": [
    "### 从CSV中读入数据集并进行简单映射处理"
   ]
  },
  {
   "cell_type": "code",
   "execution_count": 2,
   "metadata": {},
   "outputs": [],
   "source": [
    "raw_data_list = []\n",
    "with open('train.csv', 'r') as f:\n",
    "    reader = csv.reader(f)\n",
    "    for row in reader:\n",
    "        raw_data_list.append(row)\n",
    "\n",
    "raw_data_list.pop(0)\n",
    "\n",
    "# 存储所有数据的矩阵\n",
    "raw_data_matrix = np.zeros((len(raw_data_list[0]), len(raw_data_list)))\n",
    "raw_data_list = np.array(raw_data_list).T\n",
    "raw_data_matrix[0] = raw_data_list[0].astype(np.float)\n",
    "for i in range(len(raw_data_matrix[0])):\n",
    "    # male为1，female为0\n",
    "    raw_data_matrix[1][i] = 1 if raw_data_list[1][i] == 'male' else 2\n",
    "for i in range(2, 6):\n",
    "    raw_data_matrix[i] = raw_data_list[i].astype(np.float)\n",
    "for i in range(len(raw_data_matrix[0])):\n",
    "    if raw_data_list[6][i] == 'U':\n",
    "        raw_data_matrix[6][i] = 0\n",
    "    elif raw_data_list[6][i] == 'C':\n",
    "        raw_data_matrix[6][i] = 1\n",
    "    elif raw_data_list[6][i] == 'Q':\n",
    "        raw_data_matrix[6][i] = 2\n",
    "    elif raw_data_list[6][i] == 'S':\n",
    "        raw_data_matrix[6][i] = 3\n",
    "raw_data_matrix[7] = raw_data_list[7].astype(np.float)"
   ]
  },
  {
   "cell_type": "markdown",
   "metadata": {},
   "source": [
    "### 分割训练集和测试集"
   ]
  },
  {
   "cell_type": "code",
   "execution_count": 3,
   "metadata": {},
   "outputs": [],
   "source": [
    "m_train = int(len(raw_data_matrix[0]) * 0.7)\n",
    "m_test = len(raw_data_matrix[0]) - m_train\n",
    "\n",
    "X_train = raw_data_matrix[0:7, 0:m_train]\n",
    "Y_train = raw_data_matrix[7:8, 0:m_train]\n",
    "\n",
    "X_test = raw_data_matrix[0:7, m_train:]\n",
    "Y_test = raw_data_matrix[7:8, m_train:]"
   ]
  }
 ],
 "metadata": {
  "kernelspec": {
   "display_name": "Python 3",
   "language": "python",
   "name": "python3"
  },
  "language_info": {
   "codemirror_mode": {
    "name": "ipython",
    "version": 3
   },
   "file_extension": ".py",
   "mimetype": "text/x-python",
   "name": "python",
   "nbconvert_exporter": "python",
   "pygments_lexer": "ipython3",
   "version": "3.7.0"
  }
 },
 "nbformat": 4,
 "nbformat_minor": 4
}
