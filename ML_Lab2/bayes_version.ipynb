{
 "cells": [
  {
   "cell_type": "markdown",
   "metadata": {},
   "source": [
    "### Titanic的贝叶斯分类器版本"
   ]
  },
  {
   "cell_type": "code",
   "execution_count": 1,
   "metadata": {},
   "outputs": [],
   "source": [
    "import numpy as np\n",
    "import csv\n",
    "import math"
   ]
  },
  {
   "cell_type": "markdown",
   "metadata": {},
   "source": [
    "### 从CSV中读入数据集并进行简单映射处理"
   ]
  },
  {
   "cell_type": "code",
   "execution_count": 2,
   "metadata": {},
   "outputs": [],
   "source": [
    "raw_data_list = []\n",
    "with open('train.csv', 'r') as f:\n",
    "    reader = csv.reader(f)\n",
    "    for row in reader:\n",
    "        raw_data_list.append(row)\n",
    "\n",
    "raw_data_list.pop(0)\n",
    "\n",
    "# 存储所有数据的矩阵\n",
    "raw_data_matrix = np.zeros((len(raw_data_list[0]), len(raw_data_list)))\n",
    "raw_data_list = np.array(raw_data_list).T\n",
    "raw_data_matrix[0] = raw_data_list[0].astype(np.float)\n",
    "for i in range(len(raw_data_matrix[0])):\n",
    "    # male为1，female为0\n",
    "    raw_data_matrix[1][i] = 1 if raw_data_list[1][i] == 'male' else 2\n",
    "for i in range(2, 6):\n",
    "    raw_data_matrix[i] = raw_data_list[i].astype(np.float)\n",
    "for i in range(len(raw_data_matrix[0])):\n",
    "    if raw_data_list[6][i] == 'U':\n",
    "        raw_data_matrix[6][i] = 0\n",
    "    elif raw_data_list[6][i] == 'C':\n",
    "        raw_data_matrix[6][i] = 1\n",
    "    elif raw_data_list[6][i] == 'Q':\n",
    "        raw_data_matrix[6][i] = 2\n",
    "    elif raw_data_list[6][i] == 'S':\n",
    "        raw_data_matrix[6][i] = 3\n",
    "raw_data_matrix[7] = raw_data_list[7].astype(np.float)"
   ]
  },
  {
   "cell_type": "markdown",
   "metadata": {},
   "source": [
    "### 分割训练集和测试集"
   ]
  },
  {
   "cell_type": "code",
   "execution_count": 3,
   "metadata": {},
   "outputs": [],
   "source": [
    "m_train = int(len(raw_data_matrix[0]) * 0.7)\n",
    "m_test = len(raw_data_matrix[0]) - m_train\n",
    "\n",
    "X_train = raw_data_matrix[0:7, 0:m_train]\n",
    "Y_train = raw_data_matrix[7:8, 0:m_train]\n",
    "\n",
    "X_test = raw_data_matrix[0:7, m_train:]\n",
    "Y_test = raw_data_matrix[7:8, m_train:]"
   ]
  },
  {
   "cell_type": "markdown",
   "metadata": {},
   "source": [
    "### 预测\n",
    "一边预测一边计算先验"
   ]
  },
  {
   "cell_type": "code",
   "execution_count": 30,
   "metadata": {},
   "outputs": [],
   "source": [
    "def get_prior(Y):\n",
    "    res = np.array([0., 0.])\n",
    "    for i in Y[0]:\n",
    "        if i == 0:\n",
    "            res[0] = res[0] + 1\n",
    "        else:\n",
    "            res[1] = res[1] + 1\n",
    "    res = res / Y_train.shape[1]\n",
    "    return res\n",
    "\n",
    "# 计算P(f_i|c)高斯朴素贝叶斯\n",
    "def gnb(total_x, total_y, f, c):\n",
    "    total_x = np.mat(total_x)\n",
    "    assert total_x.shape[0] == 1\n",
    "    assert total_y.shape[0] == 1\n",
    "    assert total_x.shape[1] == total_y.shape[1]\n",
    "    avg = 0.\n",
    "    for i in range(total_y.shape[1]):\n",
    "        if total_y[0,i] == c:\n",
    "            avg = avg + total_x[0,i]\n",
    "    avg = avg / total_y.shape[1]\n",
    "    mu = 0.\n",
    "    for i in range(total_y.shape[1]):\n",
    "        if total_y[0,i] == c:\n",
    "            mu = mu + (total_x[0,i] - avg)**2\n",
    "    mu = mu / total_y.shape[1]\n",
    "    return (1 / math.sqrt(2 * math.pi * mu))*np.exp(-(f - avg)**2 / (2*mu))\n",
    "\n",
    "# 计算P(f_i|c)\n",
    "def nb(total_x, total_y, f, c):\n",
    "    total_x = np.mat(total_x)\n",
    "    assert total_x.shape[0] == 1\n",
    "    assert total_y.shape[0] == 1\n",
    "    assert total_x.shape[1] == total_y.shape[1]\n",
    "    sum = 0.\n",
    "    target = 0.\n",
    "    for i in range(total_y.shape[1]):\n",
    "        if total_y[0,i] == c:\n",
    "            sum = sum + 1\n",
    "            if total_x[0,i] == f:\n",
    "                target = target + 1\n",
    "    return target / sum\n",
    "\n",
    "def predict_single(x_train, y_train, x, prior):\n",
    "    assert x.shape[0] == 7\n",
    "    assert x.shape[1] == 1\n",
    "    # 计算c为0时的后验\n",
    "    pcf = np.zeros((2, 7))\n",
    "    pcf[0][0] = nb(x_train[0], y_train, x[0][0], 0)\n",
    "    pcf[0][1] = nb(x_train[1], y_train, x[1][0], 0)\n",
    "    pcf[0][2] = gnb(x_train[2], y_train, x[2][0], 0)\n",
    "    pcf[0][3] = nb(x_train[3], y_train, x[3][0], 0)\n",
    "    pcf[0][4] = nb(x_train[4], y_train, x[4][0], 0)\n",
    "    pcf[0][5] = gnb(x_train[5], y_train, x[5][0], 0)\n",
    "    pcf[0][6] = nb(x_train[6], y_train, x[6][0], 0)\n",
    "    pc0f = 1.\n",
    "    for i in range(7):\n",
    "        pc0f = pc0f * pcf[0][i]\n",
    "    pc0f = pc0f * prior[0]\n",
    "    \n",
    "    # 计算c为1时的后验\n",
    "    pcf[1][0] = nb(x_train[0], y_train, x[0][0], 1)\n",
    "    pcf[1][1] = nb(x_train[1], y_train, x[1][0], 1)\n",
    "    pcf[1][2] = gnb(x_train[2], y_train, x[2][0], 1)\n",
    "    pcf[1][3] = nb(x_train[3], y_train, x[3][0], 1)\n",
    "    pcf[1][4] = nb(x_train[4], y_train, x[4][0], 1)\n",
    "    pcf[1][5] = gnb(x_train[5], y_train, x[5][0], 1)\n",
    "    pcf[1][6] = nb(x_train[6], y_train, x[6][0], 1)\n",
    "    pc1f = 1.\n",
    "    for i in range(7):\n",
    "        pc1f = pc1f * pcf[1][i]\n",
    "    pc1f = pc1f * prior[1]\n",
    "    return 0 if pc0f > pc1f else 1\n",
    "\n",
    "def predict(x_train, y_train, x_test, y_test):\n",
    "    success_sum = 0.\n",
    "    prior = get_prior(y_train)\n",
    "    for i in range(x_test.shape[1]):\n",
    "        p = predict_single(x_train, y_train, x_test[:,i:i+1], prior)\n",
    "        if p == y_test[0][i]:\n",
    "            success_sum = success_sum + 1\n",
    "    print('准确率：' + str(success_sum / x_test.shape[1]))"
   ]
  },
  {
   "cell_type": "markdown",
   "metadata": {},
   "source": [
    "### 带入数据计算"
   ]
  },
  {
   "cell_type": "code",
   "execution_count": 31,
   "metadata": {},
   "outputs": [
    {
     "name": "stdout",
     "output_type": "stream",
     "text": [
      "准确率：0.7985074626865671\n"
     ]
    }
   ],
   "source": [
    "predict(X_train, Y_train, X_test, Y_test)"
   ]
  }
 ],
 "metadata": {
  "kernelspec": {
   "display_name": "Python 3",
   "language": "python",
   "name": "python3"
  },
  "language_info": {
   "codemirror_mode": {
    "name": "ipython",
    "version": 3
   },
   "file_extension": ".py",
   "mimetype": "text/x-python",
   "name": "python",
   "nbconvert_exporter": "python",
   "pygments_lexer": "ipython3",
   "version": "3.7.0"
  }
 },
 "nbformat": 4,
 "nbformat_minor": 4
}
